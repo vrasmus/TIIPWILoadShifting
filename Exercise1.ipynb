{
 "cells": [
  {
   "cell_type": "markdown",
   "metadata": {},
   "source": [
    "<h1><u> Exercise 1: Load shifting</u></h1>"
   ]
  },
  {
   "cell_type": "code",
   "execution_count": null,
   "metadata": {
    "collapsed": false
   },
   "outputs": [],
   "source": [
    "import numpy as np\n",
    "import itertools\n",
    "import matplotlib.pyplot as plt\n",
    "from ftplib import FTP"
   ]
  },
  {
   "cell_type": "markdown",
   "metadata": {},
   "source": [
    "#### Data is downloaded from the FTP server supplied."
   ]
  },
  {
   "cell_type": "code",
   "execution_count": null,
   "metadata": {
    "collapsed": false
   },
   "outputs": [],
   "source": [
    "ftp = FTP('138.68.70.112')\n",
    "ftp.login('student','tiipwi')\n",
    "ftp.cwd('data/nordpoolspot.com/Elspot/Elspot_prices/Denmark/Denmark_West/')\n",
    "ftp.retrbinary('RETR odedkk16.sdv', open('pricedata.sdv', 'wb').write)"
   ]
  },
  {
   "cell_type": "markdown",
   "metadata": {},
   "source": [
    "#### Price data is opened and parsed, latest date is found and used to download corresponding CO2 file."
   ]
  },
  {
   "cell_type": "code",
   "execution_count": null,
   "metadata": {
    "collapsed": false
   },
   "outputs": [],
   "source": [
    "with open('pricedata.sdv','rb') as f:\n",
    "    lastFilled = 0\n",
    "    for i,line in enumerate(f):\n",
    "        if len(line)>100:\n",
    "            lastData = line\n",
    "            \n",
    "pricedata = lastData.decode(encoding='UTF-8').split(';')\n",
    "date = pricedata[0]\n",
    "dayPrices = pricedata[1:26]\n",
    "dayPrices.pop(3)\n",
    "dayPrices = [float(i.replace(',','.')) for i in dayPrices]"
   ]
  },
  {
   "cell_type": "code",
   "execution_count": null,
   "metadata": {
    "collapsed": false
   },
   "outputs": [],
   "source": [
    "date_ = date.split('.')\n",
    "co2File = \"20\"+date_[2]+date_[1]+date_[0]\n",
    "ftp.cwd('../../../../../energinet.dk/co2prognoser')\n",
    "ftp.retrbinary('RETR '+ co2File +'_CO2prognose.txt', open('co2data.txt', 'wb').write)"
   ]
  },
  {
   "cell_type": "code",
   "execution_count": null,
   "metadata": {
    "collapsed": false
   },
   "outputs": [],
   "source": [
    "co2data = []\n",
    "with open('co2data.txt','rt') as f:\n",
    "    for i,line in enumerate(f):\n",
    "        if i==0:\n",
    "            co2date = line\n",
    "        if i>1:\n",
    "            co2data.append(float(line.split(';')[1]))"
   ]
  },
  {
   "cell_type": "markdown",
   "metadata": {},
   "source": [
    "### A visualization of the data:"
   ]
  },
  {
   "cell_type": "code",
   "execution_count": null,
   "metadata": {
    "collapsed": false
   },
   "outputs": [],
   "source": [
    "plt.title(\"Electrical Prices for \" +date)\n",
    "plt.plot(list(range(0,24)),dayPrices)\n",
    "plt.xlabel(\"Time of day\")\n",
    "plt.ylabel(\"Price [DKK/MWh]\")\n",
    "plt.show()"
   ]
  },
  {
   "cell_type": "code",
   "execution_count": null,
   "metadata": {
    "collapsed": false
   },
   "outputs": [],
   "source": [
    "plt.title('CO2 prognosis for '+co2date)\n",
    "plt.plot(co2data)\n",
    "plt.xlabel('Time of day')\n",
    "plt.ylabel('CO2 emission [g/MWh]')\n",
    "plt.show()"
   ]
  },
  {
   "cell_type": "markdown",
   "metadata": {
    "collapsed": true
   },
   "source": [
    "## Toms Consumption Scenario"
   ]
  },
  {
   "cell_type": "code",
   "execution_count": null,
   "metadata": {
    "collapsed": true
   },
   "outputs": [],
   "source": [
    "hours = np.arange(0,24)\n",
    "minutes = np.arange(0,60,5)\n",
    "times = list(itertools.product(hours,minutes))\n",
    "timeIndices = list(range(0,len(times)))\n",
    "timeList = [i*5/60 for i in timeIndices]"
   ]
  },
  {
   "cell_type": "code",
   "execution_count": null,
   "metadata": {
    "collapsed": true
   },
   "outputs": [],
   "source": [
    "class Appliance:\n",
    "    def __init__(self, name, startTime, applianceLoad,shiftable=False,curtailable=False):\n",
    "        self.name = name\n",
    "        self.time = startTime\n",
    "        self.load = applianceLoad\n",
    "        self.shiftable = shiftable\n",
    "        self.curtailable = curtailable\n",
    "        \n",
    "        ind = times.index(startTime)\n",
    "        self.indices = list(range(ind,ind+len(applianceLoad)))\n",
    "        self.timing = [i*5/60 for i in self.indices]\n",
    "    \n",
    "    def price(self,dayPrices):\n",
    "        _Load = np.zeros(24*12)\n",
    "        _Load[self.indices] = self.load\n",
    "        _Load = [float(sum(_Load[12*i:12*(i+1)])/12) for i in range(24)]\n",
    "        return sum([_Load[i]*dayPrices[i]*10**(-6) for i in range(24)])"
   ]
  },
  {
   "cell_type": "code",
   "execution_count": null,
   "metadata": {
    "collapsed": false
   },
   "outputs": [],
   "source": [
    "car = Appliance(\"Car\",\n",
    "                (18,0), \n",
    "                [3600]*18 + [3000] + [1000] + [300] + [100] + [50] + [10],\n",
    "                shiftable=True, curtailable=True)\n",
    "oven = Appliance(\"Oven\",\n",
    "                 (18,10),\n",
    "                 [2250, 2350, 2200, 2000, 1300, 2000, 500, 500])\n",
    "stove = Appliance(\"Stove\",\n",
    "                  (18,20),\n",
    "                  [840]*6)\n",
    "television = Appliance(\"Television\",\n",
    "                       (19,0),\n",
    "                       [55]*9)\n",
    "dryer = Appliance(\"Dryer\",\n",
    "                  (21,30),\n",
    "                  [2000, 2000, 2000, 2000, 2000, 2000, 2000, 2000, 2000, 1600, 1600, 1600, 1300, 1300, 1300, 940, 940, 940],\n",
    "                  shiftable=True)\n",
    "applianceList = [car,oven,stove,television,dryer]"
   ]
  },
  {
   "cell_type": "markdown",
   "metadata": {},
   "source": [
    "#### We want an overview of what the effect of individual appliances is."
   ]
  },
  {
   "cell_type": "code",
   "execution_count": null,
   "metadata": {
    "collapsed": false
   },
   "outputs": [],
   "source": [
    "plt.title('Toms scenario, individual appliances')\n",
    "for appliance in applianceList:\n",
    "    plt.plot(appliance.timing,appliance.load,label=appliance.name)\n",
    "plt.xlabel('Time of day')\n",
    "plt.ylabel('Energy consumption')\n",
    "plt.legend(prop={'size':9})\n",
    "plt.show()"
   ]
  },
  {
   "cell_type": "markdown",
   "metadata": {},
   "source": [
    "#### Luckily, we have shiftable appliances in the dryer and the car, two of the big contributers to the total power load. It is not possible to switch the others, as Tom is not particularly interested in waiting with food or entertainment."
   ]
  },
  {
   "cell_type": "code",
   "execution_count": null,
   "metadata": {
    "collapsed": true
   },
   "outputs": [],
   "source": [
    "def aggregateLoad(appliances):\n",
    "    aggregatedLoad = np.zeros(len(timeList))\n",
    "\n",
    "    for appliance in appliances:\n",
    "        aggregatedLoad[appliance.indices] += appliance.load\n",
    "        \n",
    "    return aggregatedLoad"
   ]
  },
  {
   "cell_type": "code",
   "execution_count": null,
   "metadata": {
    "collapsed": false
   },
   "outputs": [],
   "source": [
    "aggregatedLoad = aggregateLoad(applianceList)"
   ]
  },
  {
   "cell_type": "code",
   "execution_count": null,
   "metadata": {
    "collapsed": false
   },
   "outputs": [],
   "source": [
    "plt.title('Aggregated load')\n",
    "plt.plot(timeList,aggregatedLoad)\n",
    "plt.xlim(min(timeList),max(timeList))\n",
    "plt.xlabel('Time of day')\n",
    "plt.ylabel('Enery consumption')\n",
    "plt.show()"
   ]
  },
  {
   "cell_type": "markdown",
   "metadata": {},
   "source": [
    "#### So most of Tom's power consumption happen right after he gets home from work. Let us consider what prices he has to pay for this particular consumption. We calculate the watt-hours spent in each hour."
   ]
  },
  {
   "cell_type": "markdown",
   "metadata": {},
   "source": [
    "#### By multiplying the spend amount with the price for one watt-hour, the price for each hour is found. Then, the total price for the consumption of the day may be summed It the same way, the CO2 emission is found."
   ]
  },
  {
   "cell_type": "code",
   "execution_count": null,
   "metadata": {
    "collapsed": false
   },
   "outputs": [],
   "source": [
    "def calcPriceCO2(aggregatedLoad):\n",
    "    aggregatedHourLoad = [float(sum(aggregatedLoad[12*i:12*(i+1)])/12) for i in range(24)]\n",
    "    totalPrice = sum([aggregatedHourLoad[i]*dayPrices[i]*10**(-6) for i in range(24)])\n",
    "    totalCO2 = sum([aggregatedHourLoad[i]*co2data[i]*10**(-6) for i in range(24)])\n",
    "    return totalPrice, totalCO2\n",
    "\n",
    "totalPrice,totalCO2 = calcPriceCO2(aggregatedLoad)\n",
    "print(\"Toms consumption has a price of %.2f DKK and results in a CO2 emission of %.2f g\" %(totalPrice, totalCO2))"
   ]
  },
  {
   "cell_type": "markdown",
   "metadata": {},
   "source": [
    "## Optimizing the scenario"
   ]
  },
  {
   "cell_type": "code",
   "execution_count": null,
   "metadata": {
    "collapsed": false
   },
   "outputs": [],
   "source": [
    "optimizedAppliances = []\n",
    "\n",
    "for appliance in applianceList:\n",
    "    if appliance.shiftable:\n",
    "        print(\"Optimizing shiftable appliance: \" + appliance.name)\n",
    "        bestPrice = appliance.price(dayPrices)\n",
    "        bestAppliance = appliance\n",
    "        for time in times:\n",
    "            if times.index(time) + len(appliance.load) < 24*12:\n",
    "                newAppliance = Appliance(appliance.name,\n",
    "                                         (time),\n",
    "                                         appliance.load,\n",
    "                                         appliance.shiftable,\n",
    "                                         appliance.curtailable)\n",
    "                newPrice = newAppliance.price(dayPrices)\n",
    "                if newPrice < bestPrice:\n",
    "                    bestPrice = newPrice\n",
    "                    bestAppliance = newAppliance\n",
    "        optimizedAppliances.append(bestAppliance)\n",
    "    else:\n",
    "        optimizedAppliances.append(appliance)"
   ]
  },
  {
   "cell_type": "code",
   "execution_count": null,
   "metadata": {
    "collapsed": false
   },
   "outputs": [],
   "source": [
    "plt.title('Toms scenario, optimized individual appliances')\n",
    "for appliance in optimizedAppliances:\n",
    "    plt.plot(appliance.timing,appliance.load,label=appliance.name)\n",
    "plt.xlabel('Time of day')\n",
    "plt.ylabel('Energy consumption')\n",
    "plt.legend(loc=1,prop={'size':9})\n",
    "plt.show()"
   ]
  },
  {
   "cell_type": "code",
   "execution_count": null,
   "metadata": {
    "collapsed": false
   },
   "outputs": [],
   "source": [
    "aggregatedOptimizedLoad = aggregateLoad(optimizedAppliances)\n",
    "\n",
    "plt.title('Aggregated optimized load')\n",
    "plt.plot(timeList,aggregatedOptimizedLoad)\n",
    "plt.xlim(min(timeList),max(timeList))\n",
    "plt.xlabel('Time of day')\n",
    "plt.ylabel('Enery consumption')\n",
    "plt.show()"
   ]
  },
  {
   "cell_type": "code",
   "execution_count": null,
   "metadata": {
    "collapsed": false
   },
   "outputs": [],
   "source": [
    "totalPriceOpt,totalCO2Opt = calcPriceCO2(aggregatedOptimizedLoad)\n",
    "print(\"Toms consumption has a price of %.2f DKK and results in a CO2 emission of %.2f g\" %(totalPriceOpt, totalCO2Opt))\n",
    "print(\"So Tom has saved %.2f DKK and experiences a change in CO2 emission of %.2f g\" %(totalPrice-totalPriceOpt , totalCO2-totalCO2Opt))"
   ]
  },
  {
   "cell_type": "markdown",
   "metadata": {},
   "source": [
    "#### There are several further things which could be considered. One thing is constraints such as ensuring that Toms car is charged when he has to leave in the morning. The optimization could be improved further by splitting splitable loads instead of one continous use. It could also be possible to optimize simultaneously for price and CO2 emission, to consider the tradeoff between the two, and possibly improve on both over the initial scenario. "
   ]
  }
 ],
 "metadata": {
  "anaconda-cloud": {},
  "kernelspec": {
   "display_name": "Python [default]",
   "language": "python",
   "name": "python3"
  },
  "language_info": {
   "codemirror_mode": {
    "name": "ipython",
    "version": 3
   },
   "file_extension": ".py",
   "mimetype": "text/x-python",
   "name": "python",
   "nbconvert_exporter": "python",
   "pygments_lexer": "ipython3",
   "version": "3.5.2"
  }
 },
 "nbformat": 4,
 "nbformat_minor": 1
}
